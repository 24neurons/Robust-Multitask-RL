{
 "cells": [
  {
   "cell_type": "code",
   "execution_count": 1,
   "metadata": {},
   "outputs": [
    {
     "data": {
      "text/plain": [
       "'0.10.3'"
      ]
     },
     "execution_count": 1,
     "metadata": {},
     "output_type": "execute_result"
    }
   ],
   "source": [
    "import gym \n",
    "gym.version.VERSION"
   ]
  },
  {
   "cell_type": "code",
   "execution_count": 2,
   "metadata": {
    "collapsed": true
   },
   "outputs": [],
   "source": [
    "import matplotlib.pyplot as plt\n",
    "import numpy as np\n",
    "%matplotlib inline\n",
    "from gridworld_env import GridworldEnv"
   ]
  },
  {
   "cell_type": "code",
   "execution_count": 20,
   "metadata": {},
   "outputs": [
    {
     "name": "stdout",
     "output_type": "stream",
     "text": [
      "\u001b[33mWARN: gym.spaces.Box autodetected dtype as <class 'numpy.float32'>. Please provide explicit dtype.\u001b[0m\n"
     ]
    }
   ],
   "source": [
    "env = GridworldEnv(1) # Number of plan "
   ]
  },
  {
   "cell_type": "code",
   "execution_count": 19,
   "metadata": {},
   "outputs": [
    {
     "data": {
      "image/png": "[encoded data removed]",
      "text/plain": [
       "<matplotlib.figure.Figure at 0x7f7501d65358>"
      ]
     },
     "metadata": {},
     "output_type": "display_data"
    }
   ],
   "source": [
    "env.render()"
   ]
  },
  {
   "cell_type": "code",
   "execution_count": 5,
   "metadata": {},
   "outputs": [
    {
     "name": "stdout",
     "output_type": "stream",
     "text": [
      "[[1 1 1 1 1 1 1 1]\n",
      " [1 0 0 0 3 0 0 1]\n",
      " [1 0 1 0 0 0 1 1]\n",
      " [1 0 0 0 0 0 0 1]\n",
      " [1 0 0 4 0 0 1 1]\n",
      " [1 0 0 0 0 0 0 1]\n",
      " [1 0 1 0 0 0 0 1]\n",
      " [1 1 1 1 1 1 1 1]]\n",
      "4\n"
     ]
    },
    {
     "data": {
      "text/plain": [
       "(array([[1, 1, 1, 1, 1, 1, 1, 1],\n",
       "        [1, 0, 0, 0, 3, 0, 0, 1],\n",
       "        [1, 0, 1, 0, 0, 0, 1, 1],\n",
       "        [1, 0, 0, 0, 0, 0, 0, 1],\n",
       "        [1, 0, 0, 4, 0, 0, 1, 1],\n",
       "        [1, 0, 0, 0, 0, 0, 0, 1],\n",
       "        [1, 0, 1, 0, 0, 0, 0, 1],\n",
       "        [1, 1, 1, 1, 1, 1, 1, 1]]), -0.1, False, {'success': True})"
      ]
     },
     "execution_count": 5,
     "metadata": {},
     "output_type": "execute_result"
    }
   ],
   "source": [
    "print(env.reset())\n",
    "print(env.action_space.sample())\n",
    "env.step(env.action_space.sample())"
   ]
  },
  {
   "cell_type": "code",
   "execution_count": 6,
   "metadata": {},
   "outputs": [
    {
     "name": "stdout",
     "output_type": "stream",
     "text": [
      "((4, 3), (1, 4))\n"
     ]
    }
   ],
   "source": [
    "env.verbose = True\n",
    "print( env._get_agent_start_target_state())"
   ]
  },
  {
   "cell_type": "code",
   "execution_count": 7,
   "metadata": {},
   "outputs": [
    {
     "data": {
      "text/plain": [
       "(8, 8)"
      ]
     },
     "execution_count": 7,
     "metadata": {},
     "output_type": "execute_result"
    }
   ],
   "source": [
    "env.grid_map_shape"
   ]
  },
  {
   "cell_type": "code",
   "execution_count": 8,
   "metadata": {},
   "outputs": [
    {
     "data": {
      "text/plain": [
       "Box(8, 8)"
      ]
     },
     "execution_count": 8,
     "metadata": {},
     "output_type": "execute_result"
    }
   ],
   "source": [
    "env.observation_space"
   ]
  },
  {
   "cell_type": "code",
   "execution_count": 9,
   "metadata": {},
   "outputs": [
    {
     "data": {
      "text/plain": [
       "Discrete(5)"
      ]
     },
     "execution_count": 9,
     "metadata": {},
     "output_type": "execute_result"
    }
   ],
   "source": [
    "env.action_space"
   ]
  },
  {
   "cell_type": "code",
   "execution_count": 11,
   "metadata": {
    "scrolled": false
   },
   "outputs": [
    {
     "name": "stdout",
     "output_type": "stream",
     "text": [
      "-0.1\n",
      "-0.1\n",
      "-0.1\n",
      "-0.6\n",
      "-0.1\n",
      "0.9\n",
      "Total episode reward:  -0.09999999999999998\n"
     ]
    },
    {
     "data": {
      "image/png": "[encoded data removed]",
      "text/plain": [
       "<matplotlib.figure.Figure at 0x7f29ef697e80>"
      ]
     },
     "metadata": {},
     "output_type": "display_data"
    },
    {
     "data": {
      "image/png": "[encoded data removed]",
      "text/plain": [
       "<matplotlib.figure.Figure at 0x7f29ef647fd0>"
      ]
     },
     "metadata": {},
     "output_type": "display_data"
    },
    {
     "data": {
      "image/png": "[encoded data removed]",
      "text/plain": [
       "<matplotlib.figure.Figure at 0x7f29ef60bb38>"
      ]
     },
     "metadata": {},
     "output_type": "display_data"
    },
    {
     "data": {
      "image/png": "[encoded data removed]",
      "text/plain": [
       "<matplotlib.figure.Figure at 0x7f29ef5cc8d0>"
      ]
     },
     "metadata": {},
     "output_type": "display_data"
    },
    {
     "data": {
      "image/png": "[encoded data removed]",
      "text/plain": [
       "<matplotlib.figure.Figure at 0x7f29ef55e5c0>"
      ]
     },
     "metadata": {},
     "output_type": "display_data"
    },
    {
     "data": {
      "image/png": "[encoded data removed]",
      "text/plain": [
       "<matplotlib.figure.Figure at 0x7f29ef6c9da0>"
      ]
     },
     "metadata": {},
     "output_type": "display_data"
    },
    {
     "data": {
      "image/png": "[encoded data removed]",
      "text/plain": [
       "<matplotlib.figure.Figure at 0x7f29ef67a198>"
      ]
     },
     "metadata": {},
     "output_type": "display_data"
    }
   ],
   "source": [
    "# Try random policy \n",
    "env.reset()\n",
    "moves = [0,2,2,3,2,4]\n",
    "env.render()\n",
    "for i in range(len(moves)):\n",
    "    move = env.action_space.sample()\n",
    "    _, reward, _, _ =  env.step(moves[i]) \n",
    "    print(reward)\n",
    "    env.render()\n",
    "print('Total episode reward: ', env.episode_total_reward)"
   ]
  },
  {
   "cell_type": "markdown",
   "metadata": {},
   "source": [
    "## Q-learning Example"
   ]
  },
  {
   "cell_type": "code",
   "execution_count": 13,
   "metadata": {},
   "outputs": [
    {
     "name": "stdout",
     "output_type": "stream",
     "text": [
      "\u001b[33mWARN: gym.spaces.Box autodetected dtype as <class 'numpy.float32'>. Please provide explicit dtype.\u001b[0m\n",
      "###### LEARNING #####\n",
      "episodes      : 100\n",
      "total reward  : -2370.0000000000014\n",
      "average reward: -23.70\n",
      "Q Value       :[[ 0.          0.          0.          0.          0.        ]\n",
      " [ 0.          0.          0.          0.          0.        ]\n",
      " [ 0.          0.          0.          0.          0.        ]\n",
      " [ 0.          0.          0.          0.          0.        ]\n",
      " [ 0.          0.          0.          0.          0.        ]\n",
      " [ 0.          0.          0.          0.          0.        ]\n",
      " [ 0.          0.          0.          0.          0.        ]\n",
      " [ 0.          0.          0.          0.          0.        ]\n",
      " [ 0.          0.          0.          0.          0.        ]\n",
      " [ 0.30260843  0.115061   -0.32578725 -0.27431417  0.49821007]\n",
      " [ 0.4931729  -0.02127104 -0.03511592  0.26575032  0.69535434]\n",
      " [ 0.6280969   0.52717566  0.15321247  0.47617394  0.8721872 ]\n",
      " [ 0.          0.          0.          0.          0.        ]\n",
      " [ 0.28273737  0.3633637   0.00445001  0.7784233   0.06294017]\n",
      " [ 0.06545014 -0.28744093 -0.3365089   0.379937   -0.34202117]\n",
      " [ 0.          0.          0.          0.          0.        ]\n",
      " [ 0.          0.          0.          0.          0.        ]\n",
      " [ 0.13580678  0.07790652  0.3046381  -0.38921916 -0.38810202]\n",
      " [ 0.          0.          0.          0.          0.        ]\n",
      " [ 0.53151345  0.39671192  0.6970656   0.00630997  0.7392312 ]\n",
      " [ 0.72746813  0.5558057   0.89427364  0.54806703  0.45656073]\n",
      " [ 0.4771008   0.35969847  0.53420657  0.69920295 -0.04508007]\n",
      " [ 0.          0.          0.          0.          0.        ]\n",
      " [ 0.          0.          0.          0.          0.        ]\n",
      " [ 0.          0.          0.          0.          0.        ]\n",
      " [ 0.09072137  0.01882909  0.12415978 -0.42219776  0.24895255]\n",
      " [ 0.25540373  0.1473849  -0.23500925  0.10744409  0.41721493]\n",
      " [ 0.41731218  0.2918241   0.5815705   0.2684537   0.579748  ]\n",
      " [ 0.58871067  0.4092855   0.7365844   0.4176129   0.39484292]\n",
      " [ 0.38015112  0.22970153  0.5209149   0.57338834  0.19658042]\n",
      " [ 0.1662859  -0.311519   -0.29293784  0.38967392 -0.3001823 ]\n",
      " [ 0.          0.          0.          0.          0.        ]\n",
      " [ 0.          0.          0.          0.          0.        ]\n",
      " [-0.00568662 -0.10356891  0.09108365 -0.4888462   0.17572378]\n",
      " [ 0.14165986  0.03322509  0.26738432  0.01790053  0.31346896]\n",
      " [ 0.31266862  0.18433681  0.44209263  0.1757638   0.44336116]\n",
      " [ 0.44178304  0.29203796  0.5816824   0.30757135  0.27957204]\n",
      " [ 0.27627817  0.128727    0.40666288  0.42230022 -0.22875808]\n",
      " [ 0.          0.          0.          0.          0.        ]\n",
      " [ 0.          0.          0.          0.          0.        ]\n",
      " [ 0.          0.          0.          0.          0.        ]\n",
      " [-0.11947629 -0.23227163  0.0290678  -0.6029157   0.04111665]\n",
      " [ 0.04578457 -0.45662314  0.17337047 -0.09102827  0.17857632]\n",
      " [ 0.17411385  0.03359398  0.31150287  0.04834519  0.3105879 ]\n",
      " [ 0.3035148   0.14315951  0.44136786  0.17879073  0.15122123]\n",
      " [ 0.14887002  0.00541597  0.2780167   0.29461557  0.01331581]\n",
      " [ 0.01394183 -0.1379494  -0.48105577  0.15166268 -0.49866077]\n",
      " [ 0.          0.          0.          0.          0.        ]\n",
      " [ 0.          0.          0.          0.          0.        ]\n",
      " [-0.22492081 -0.717274   -0.09700171 -0.71928775 -0.7215934 ]\n",
      " [ 0.          0.          0.          0.          0.        ]\n",
      " [ 0.01941549 -0.49286163  0.17003651 -0.4714292   0.15427978]\n",
      " [ 0.13276652 -0.35870525  0.30081362  0.03185842 -0.02234021]\n",
      " [-0.01327035 -0.5016834   0.14766467  0.12777613 -0.13845052]\n",
      " [-0.1477956  -0.6636811   0.00193525 -0.00237748 -0.65212   ]\n",
      " [ 0.          0.          0.          0.          0.        ]\n",
      " [ 0.          0.          0.          0.          0.        ]\n",
      " [ 0.          0.          0.          0.          0.        ]\n",
      " [ 0.          0.          0.          0.          0.        ]\n",
      " [ 0.          0.          0.          0.          0.        ]\n",
      " [ 0.          0.          0.          0.          0.        ]\n",
      " [ 0.          0.          0.          0.          0.        ]\n",
      " [ 0.          0.          0.          0.          0.        ]\n",
      " [ 0.          0.          0.          0.          0.        ]]\n",
      "###### TEST #####\n",
      "episodes      : 100\n",
      "total reward  : 60.0000000000001\n",
      "average reward: 0.60\n"
     ]
    }
   ],
   "source": [
    "# Q learning params\n",
    "ALPHA = 0.1 # learning rate\n",
    "GAMMA = 0.95 # reward discount\n",
    "LEARNING_COUNT = 100\n",
    "TEST_COUNT = 100\n",
    "\n",
    "TURN_LIMIT = 1000\n",
    "IS_MONITOR = True\n",
    "\n",
    "class Agent:\n",
    "    def __init__(self, env):\n",
    "        self.env = env\n",
    "        self.episode_reward = 0.0\n",
    "        self.q_val = np.zeros(64 * 5).reshape(64, 5).astype(np.float32)\n",
    "\n",
    "    def learn(self):\n",
    "        # one episode learning\n",
    "        state = self.env.reset()\n",
    "        state = 8*np.where( state == 4)[0][0] + np.where(state == 4)[1][0]\n",
    "        #self.env.render()\n",
    "        \n",
    "        for t in range(TURN_LIMIT):\n",
    "            act = self.env.action_space.sample() # random\n",
    "            next_state, reward, done, info = self.env.step(act)\n",
    "            if not done:\n",
    "                next_state = 8*np.where( next_state == 4)[0][0] + np.where( next_state == 4)[1][0]\n",
    "            q_next_max = np.max(self.q_val[next_state])\n",
    "            # Q <- Q + a(Q' - Q)\n",
    "            # <=> Q <- (1-a)Q + a(Q')\n",
    "            self.q_val[state][act] = (1 - ALPHA) * self.q_val[state][act]\\\n",
    "                                 + ALPHA * (reward + GAMMA * q_next_max)\n",
    "            \n",
    "            self.episode_reward += reward\n",
    "            #self.env.render()\n",
    "            if done:\n",
    "                return self.env.episode_total_reward\n",
    "            else:\n",
    "                state = next_state\n",
    "                \n",
    "        return 0.0 # over limit\n",
    "\n",
    "    def test(self):\n",
    "        state = self.env.reset()\n",
    "        state = 8*np.where( state == 4)[0][0] + np.where(state == 4)[1][0]\n",
    "        for t in range(TURN_LIMIT):\n",
    "            act = np.argmax(self.q_val[state])\n",
    "            next_state, reward, done, info = self.env.step(act)\n",
    "            if not done:\n",
    "                next_state = 8*np.where( next_state == 4)[0][0] + np.where( next_state == 4)[1][0]\n",
    "                \n",
    "            if done:\n",
    "                return self.env.episode_total_reward\n",
    "            else:\n",
    "                state = next_state\n",
    "        return 0.0 # over limit\n",
    "\n",
    "env = GridworldEnv(1)\n",
    "env.reset()\n",
    "agent = Agent(env)\n",
    "\n",
    "print(\"###### LEARNING #####\")\n",
    "reward_total = 0.0\n",
    "for i in range(LEARNING_COUNT):\n",
    "    reward_total += agent.learn()\n",
    "print(\"episodes      : {}\".format(LEARNING_COUNT))\n",
    "print(\"total reward  : {}\".format(reward_total))\n",
    "print(\"average reward: {:.2f}\".format(reward_total / LEARNING_COUNT))\n",
    "print(\"Q Value       :{}\".format(agent.q_val))\n",
    "\n",
    "print(\"###### TEST #####\")\n",
    "reward_total = 0.0\n",
    "for i in range(TEST_COUNT):\n",
    "    reward_total += agent.test()\n",
    "print(\"episodes      : {}\".format(TEST_COUNT))\n",
    "print(\"total reward  : {}\".format(reward_total))\n",
    "print(\"average reward: {:.2f}\".format(reward_total / TEST_COUNT))\n",
    "\n"
   ]
  },
  {
   "cell_type": "code",
   "execution_count": 14,
   "metadata": {
    "collapsed": true
   },
   "outputs": [],
   "source": [
    "Q = agent.q_val \n",
    "policy_function = np.argmax( Q , axis = 1).reshape(8,8)"
   ]
  },
  {
   "cell_type": "code",
   "execution_count": 15,
   "metadata": {},
   "outputs": [
    {
     "data": {
      "image/png": "[encoded data removed]",
      "text/plain": [
       "<matplotlib.figure.Figure at 0x7f29ef980e80>"
      ]
     },
     "metadata": {},
     "output_type": "display_data"
    }
   ],
   "source": [
    "def plot_policy( policy_function ):\n",
    "\n",
    "    plt.figure()\n",
    "    plt.imshow( policy_function , interpolation='none' )\n",
    "    plt.colorbar()\n",
    "\n",
    "    for row in range( policy_function.shape[0] ):\n",
    "        for col in range( policy_function.shape[1] ):\n",
    "            if policy_function[row][col] == 0:\n",
    "                continue \n",
    "            if policy_function[row][col] == 1:\n",
    "                dx = 0; dy = .5\n",
    "            if policy_function[row][col] == 2:\n",
    "                dx = 0; dy = -.5\n",
    "            if policy_function[row][col] == 3:\n",
    "                dx = -.5; dy = 0\n",
    "            if policy_function[row][col] == 4:\n",
    "                dx = .5; dy = 0\n",
    "            plt.arrow( col , row , dx , dy , shape='full', fc='w' , ec='w' , lw=3, length_includes_head=True, head_width=.2 )\n",
    "    plt.title( 'Policy' )        \n",
    "    plt.show() \n",
    "plot_policy(policy_function)"
   ]
  },
  {
   "cell_type": "code",
   "execution_count": 17,
   "metadata": {},
   "outputs": [
    {
     "data": {
      "image/png": "[encoded data removed]",
      "text/plain": [
       "<matplotlib.figure.Figure at 0x7f29ef75d588>"
      ]
     },
     "metadata": {},
     "output_type": "display_data"
    }
   ],
   "source": [
    "env.reset()\n",
    "env.render()"
   ]
  },
  {
   "cell_type": "code",
   "execution_count": null,
   "metadata": {
    "collapsed": true
   },
   "outputs": [],
   "source": []
  }
 ],
 "metadata": {
  "kernelspec": {
   "display_name": "Python 3",
   "language": "python",
   "name": "python3"
  },
  "language_info": {
   "codemirror_mode": {
    "name": "ipython",
    "version": 3
   },
   "file_extension": ".py",
   "mimetype": "text/x-python",
   "name": "python",
   "nbconvert_exporter": "python",
   "pygments_lexer": "ipython3",
   "version": "3.6.3"
  }
 },
 "nbformat": 4,
 "nbformat_minor": 2
}
