{
 "cells": [
  {
   "cell_type": "code",
   "execution_count": 31,
   "metadata": {},
   "outputs": [
    {
     "data": {
      "text/plain": [
       "'0.10.3'"
      ]
     },
     "execution_count": 31,
     "metadata": {},
     "output_type": "execute_result"
    }
   ],
   "source": [
    "import gym \n",
    "gym.version.VERSION"
   ]
  },
  {
   "cell_type": "code",
   "execution_count": 142,
   "metadata": {
    "collapsed": true
   },
   "outputs": [],
   "source": [
    "import matplotlib.pyplot as plt\n",
    "import numpy as np\n",
    "%matplotlib inline\n",
    "from gridworld_env import GridworldEnv"
   ]
  },
  {
   "cell_type": "code",
   "execution_count": 33,
   "metadata": {},
   "outputs": [
    {
     "name": "stdout",
     "output_type": "stream",
     "text": [
      "\u001b[33mWARN: gym.spaces.Box autodetected dtype as <class 'numpy.float32'>. Please provide explicit dtype.\u001b[0m\n"
     ]
    }
   ],
   "source": [
    "env = GridworldEnv(1) # Number of plan "
   ]
  },
  {
   "cell_type": "code",
   "execution_count": 34,
   "metadata": {},
   "outputs": [
    {
     "data": {
      "image/png": "[encoded data removed]",
      "text/plain": [
       "<matplotlib.figure.Figure at 0x7f6501105908>"
      ]
     },
     "metadata": {},
     "output_type": "display_data"
    }
   ],
   "source": [
    "env.render()"
   ]
  },
  {
   "cell_type": "code",
   "execution_count": 14,
   "metadata": {},
   "outputs": [
    {
     "name": "stdout",
     "output_type": "stream",
     "text": [
      "[[1 1 1 1 1 1 1 1]\n",
      " [1 0 0 0 3 0 0 1]\n",
      " [1 0 1 0 0 0 1 1]\n",
      " [1 0 0 0 0 0 0 1]\n",
      " [1 0 0 4 0 0 1 1]\n",
      " [1 0 0 0 0 0 0 1]\n",
      " [1 0 1 0 0 0 0 1]\n",
      " [1 1 1 1 1 1 1 1]]\n",
      "2\n"
     ]
    },
    {
     "data": {
      "text/plain": [
       "(array([[1, 1, 1, 1, 1, 1, 1, 1],\n",
       "        [1, 0, 0, 0, 3, 0, 0, 1],\n",
       "        [1, 0, 1, 0, 0, 0, 1, 1],\n",
       "        [1, 0, 0, 0, 0, 0, 0, 1],\n",
       "        [1, 0, 0, 0, 4, 0, 1, 1],\n",
       "        [1, 0, 0, 0, 0, 0, 0, 1],\n",
       "        [1, 0, 1, 0, 0, 0, 0, 1],\n",
       "        [1, 1, 1, 1, 1, 1, 1, 1]]), -0.1, False, {'success': True})"
      ]
     },
     "execution_count": 14,
     "metadata": {},
     "output_type": "execute_result"
    }
   ],
   "source": [
    "print(env.reset())\n",
    "print(env.action_space.sample())\n",
    "env.step(env.action_space.sample())"
   ]
  },
  {
   "cell_type": "code",
   "execution_count": 15,
   "metadata": {},
   "outputs": [
    {
     "name": "stdout",
     "output_type": "stream",
     "text": [
      "((4, 3), (1, 4))\n"
     ]
    }
   ],
   "source": [
    "env.verbose = True\n",
    "print( env._get_agent_start_target_state())"
   ]
  },
  {
   "cell_type": "code",
   "execution_count": 16,
   "metadata": {},
   "outputs": [
    {
     "data": {
      "text/plain": [
       "(8, 8)"
      ]
     },
     "execution_count": 16,
     "metadata": {},
     "output_type": "execute_result"
    }
   ],
   "source": [
    "env.grid_map_shape"
   ]
  },
  {
   "cell_type": "code",
   "execution_count": 17,
   "metadata": {},
   "outputs": [
    {
     "data": {
      "text/plain": [
       "Box(8, 8)"
      ]
     },
     "execution_count": 17,
     "metadata": {},
     "output_type": "execute_result"
    }
   ],
   "source": [
    "env.observation_space"
   ]
  },
  {
   "cell_type": "code",
   "execution_count": 18,
   "metadata": {},
   "outputs": [
    {
     "data": {
      "text/plain": [
       "Discrete(5)"
      ]
     },
     "execution_count": 18,
     "metadata": {},
     "output_type": "execute_result"
    }
   ],
   "source": [
    "env.action_space"
   ]
  },
  {
   "cell_type": "code",
   "execution_count": 19,
   "metadata": {
    "scrolled": false
   },
   "outputs": [
    {
     "name": "stdout",
     "output_type": "stream",
     "text": [
      "-0.1\n",
      "-0.1\n",
      "-0.6\n",
      "-0.1\n",
      "0.9\n"
     ]
    },
    {
     "data": {
      "image/png": "[encoded data removed]",
      "text/plain": [
       "<matplotlib.figure.Figure at 0x7f6509c4c6a0>"
      ]
     },
     "metadata": {},
     "output_type": "display_data"
    },
    {
     "data": {
      "image/png": "[encoded data removed]",
      "text/plain": [
       "<matplotlib.figure.Figure at 0x7f6509b95cf8>"
      ]
     },
     "metadata": {},
     "output_type": "display_data"
    },
    {
     "data": {
      "image/png": "[encoded data removed]",
      "text/plain": [
       "<matplotlib.figure.Figure at 0x7f6509d20cc0>"
      ]
     },
     "metadata": {},
     "output_type": "display_data"
    },
    {
     "data": {
      "image/png": "[encoded data removed]",
      "text/plain": [
       "<matplotlib.figure.Figure at 0x7f6509e1bd30>"
      ]
     },
     "metadata": {},
     "output_type": "display_data"
    },
    {
     "data": {
      "image/png": "[encoded data removed]",
      "text/plain": [
       "<matplotlib.figure.Figure at 0x7f6509df2ac8>"
      ]
     },
     "metadata": {},
     "output_type": "display_data"
    },
    {
     "data": {
      "image/png": "[encoded data removed]",
      "text/plain": [
       "<matplotlib.figure.Figure at 0x7f6509bc40f0>"
      ]
     },
     "metadata": {},
     "output_type": "display_data"
    }
   ],
   "source": [
    "# Try random policy \n",
    "env.reset()\n",
    "moves = [2,2,3,2,4]\n",
    "env.render()\n",
    "for i in range(len(moves)):\n",
    "    move = env.action_space.sample()\n",
    "    _, reward, _, _ =  env.step(moves[i]) \n",
    "    print(reward)\n",
    "    env.render()"
   ]
  },
  {
   "cell_type": "markdown",
   "metadata": {},
   "source": [
    "## Q-learning Example"
   ]
  },
  {
   "cell_type": "code",
   "execution_count": 171,
   "metadata": {},
   "outputs": [
    {
     "name": "stdout",
     "output_type": "stream",
     "text": [
      "\u001b[33mWARN: gym.spaces.Box autodetected dtype as <class 'numpy.float32'>. Please provide explicit dtype.\u001b[0m\n",
      "###### LEARNING #####\n",
      "episodes      : 100\n",
      "total reward  : 90.00000000000009\n",
      "average reward: 0.90\n",
      "Q Value       :[[ 0.          0.          0.          0.          0.        ]\n",
      " [ 0.          0.          0.          0.          0.        ]\n",
      " [ 0.          0.          0.          0.          0.        ]\n",
      " [ 0.          0.          0.          0.          0.        ]\n",
      " [ 0.          0.          0.          0.          0.        ]\n",
      " [ 0.          0.          0.          0.          0.        ]\n",
      " [ 0.          0.          0.          0.          0.        ]\n",
      " [ 0.          0.          0.          0.          0.        ]\n",
      " [ 0.          0.          0.          0.          0.        ]\n",
      " [ 0.5482791   0.43298352  0.05470335  0.0604647   0.6738849 ]\n",
      " [ 0.6729202   0.17007037  0.17430207  0.55749243  0.7884292 ]\n",
      " [ 0.7843527   0.6814161   0.2870317   0.6735549   0.89910865]\n",
      " [ 0.          0.          0.          0.          0.        ]\n",
      " [ 0.6789064   0.66616344  0.20098571  0.86833405  0.52446854]\n",
      " [ 0.4879608   0.03370752 -0.02844691  0.6906467  -0.10141078]\n",
      " [ 0.          0.          0.          0.          0.        ]\n",
      " [ 0.          0.          0.          0.          0.        ]\n",
      " [ 0.4477244   0.35998005  0.5601637  -0.05065734 -0.05009248]\n",
      " [ 0.          0.          0.          0.          0.        ]\n",
      " [ 0.6821402   0.57436925  0.7881078   0.18079497  0.7909475 ]\n",
      " [ 0.7908532   0.68230915  0.89999473  0.68165267  0.68157357]\n",
      " [ 0.6805458   0.56800175  0.7216297   0.79086727  0.17976557]\n",
      " [ 0.          0.          0.          0.          0.        ]\n",
      " [ 0.          0.          0.          0.          0.        ]\n",
      " [ 0.          0.          0.          0.          0.        ]\n",
      " [ 0.3635653   0.2602768   0.44933507 -0.13958576  0.46964028]\n",
      " [ 0.46970603  0.36517584 -0.03031392  0.3645011   0.5756326 ]\n",
      " [ 0.5759324   0.4700378   0.6828417   0.46959776  0.68286777]\n",
      " [ 0.6827512   0.5759656   0.7909587   0.5755851   0.57516074]\n",
      " [ 0.5750757   0.46999717  0.6822544   0.68278754  0.4667646 ]\n",
      " [ 0.46754864 -0.03253544 -0.03334584  0.57501185 -0.03410579]\n",
      " [ 0.          0.          0.          0.          0.        ]\n",
      " [ 0.          0.          0.          0.          0.        ]\n",
      " [ 0.2589635   0.15679246  0.36444503 -0.24058473  0.364888  ]\n",
      " [ 0.365006    0.2615659   0.46977007  0.26048785  0.47017977]\n",
      " [ 0.4702459   0.3654059   0.5759682   0.36515507  0.5761035 ]\n",
      " [ 0.57605034  0.47028694  0.68298954  0.4702088   0.4700937 ]\n",
      " [ 0.4701661   0.36509523  0.5755401   0.5760885  -0.02991378]\n",
      " [ 0.          0.          0.          0.          0.        ]\n",
      " [ 0.          0.          0.          0.          0.        ]\n",
      " [ 0.          0.          0.          0.          0.        ]\n",
      " [ 0.15865804  0.05187894  0.25983557 -0.3473426   0.2615697 ]\n",
      " [ 0.26130813 -0.23839816  0.36520427  0.1582988   0.36551508]\n",
      " [ 0.36556387  0.26162162  0.4702215   0.26157364  0.4703206 ]\n",
      " [ 0.47027764  0.36529687  0.57611877  0.36552614  0.36528885]\n",
      " [ 0.36520565  0.25987056  0.4702025   0.47016945  0.26023328]\n",
      " [ 0.25914997  0.15575224 -0.24151428  0.3649213  -0.24390799]\n",
      " [ 0.          0.          0.          0.          0.        ]\n",
      " [ 0.          0.          0.          0.          0.        ]\n",
      " [ 0.05127632 -0.4477109   0.15747906 -0.44636145 -0.4486019 ]\n",
      " [ 0.          0.          0.          0.          0.        ]\n",
      " [ 0.26158705 -0.23834349  0.36547515 -0.2384748   0.36535814]\n",
      " [ 0.36515945 -0.13494453  0.47027045  0.26146892  0.26082656]\n",
      " [ 0.26100677 -0.2390263   0.36462715  0.36531916  0.15616202]\n",
      " [ 0.15603742 -0.3428907   0.25947255  0.26103824 -0.34301123]\n",
      " [ 0.          0.          0.          0.          0.        ]\n",
      " [ 0.          0.          0.          0.          0.        ]\n",
      " [ 0.          0.          0.          0.          0.        ]\n",
      " [ 0.          0.          0.          0.          0.        ]\n",
      " [ 0.          0.          0.          0.          0.        ]\n",
      " [ 0.          0.          0.          0.          0.        ]\n",
      " [ 0.          0.          0.          0.          0.        ]\n",
      " [ 0.          0.          0.          0.          0.        ]\n",
      " [ 0.          0.          0.          0.          0.        ]]\n",
      "###### TEST #####\n",
      "episodes      : 100\n",
      "total reward  : 90.00000000000009\n",
      "average reward: 0.90\n"
     ]
    }
   ],
   "source": [
    "# Q learning params\n",
    "ALPHA = 0.2 # learning rate\n",
    "GAMMA = 0.99 # reward discount\n",
    "LEARNING_COUNT = 100\n",
    "TEST_COUNT = 100\n",
    "\n",
    "TURN_LIMIT = 1000\n",
    "IS_MONITOR = True\n",
    "\n",
    "class Agent:\n",
    "    def __init__(self, env):\n",
    "        self.env = env\n",
    "        self.episode_reward = 0.0\n",
    "        self.q_val = np.zeros(64 * 5).reshape(64, 5).astype(np.float32)\n",
    "\n",
    "    def learn(self):\n",
    "        # one episode learning\n",
    "        state = self.env.reset()\n",
    "        state = 8*np.where( state == 4)[0][0] + np.where(state == 4)[1][0]\n",
    "        #self.env.render()\n",
    "        \n",
    "        for t in range(TURN_LIMIT):\n",
    "            act = self.env.action_space.sample() # random\n",
    "            next_state, reward, done, info = self.env.step(act)\n",
    "            if not done:\n",
    "                next_state = 8*np.where( next_state == 4)[0][0] + np.where( next_state == 4)[1][0]\n",
    "            q_next_max = np.max(self.q_val[next_state])\n",
    "            # Q <- Q + a(Q' - Q)\n",
    "            # <=> Q <- (1-a)Q + a(Q')\n",
    "            self.q_val[state][act] = (1 - ALPHA) * self.q_val[state][act]\\\n",
    "                                 + ALPHA * (reward + GAMMA * q_next_max)\n",
    "            \n",
    "            self.episode_reward += reward\n",
    "            #self.env.render()\n",
    "            if done:\n",
    "                return reward\n",
    "            else:\n",
    "                state = next_state\n",
    "                \n",
    "        return 0.0 # over limit\n",
    "\n",
    "    def test(self):\n",
    "        state = self.env.reset()\n",
    "        state = 8*np.where( state == 4)[0][0] + np.where(state == 4)[1][0]\n",
    "        for t in range(TURN_LIMIT):\n",
    "            act = np.argmax(self.q_val[state])\n",
    "            next_state, reward, done, info = self.env.step(act)\n",
    "            if not done:\n",
    "                next_state = 8*np.where( next_state == 4)[0][0] + np.where( next_state == 4)[1][0]\n",
    "                \n",
    "            if done:\n",
    "                return reward\n",
    "            else:\n",
    "                state = next_state\n",
    "        return 0.0 # over limit\n",
    "\n",
    "env = GridworldEnv(1)\n",
    "env.reset()\n",
    "agent = Agent(env)\n",
    "\n",
    "print(\"###### LEARNING #####\")\n",
    "reward_total = 0.0\n",
    "for i in range(LEARNING_COUNT):\n",
    "    reward_total += agent.learn()\n",
    "print(\"episodes      : {}\".format(LEARNING_COUNT))\n",
    "print(\"total reward  : {}\".format(reward_total))\n",
    "print(\"average reward: {:.2f}\".format(reward_total / LEARNING_COUNT))\n",
    "print(\"Q Value       :{}\".format(agent.q_val))\n",
    "\n",
    "print(\"###### TEST #####\")\n",
    "reward_total = 0.0\n",
    "for i in range(TEST_COUNT):\n",
    "    reward_total += agent.test()\n",
    "print(\"episodes      : {}\".format(TEST_COUNT))\n",
    "print(\"total reward  : {}\".format(reward_total))\n",
    "print(\"average reward: {:.2f}\".format(reward_total / TEST_COUNT))\n",
    "\n"
   ]
  },
  {
   "cell_type": "code",
   "execution_count": 172,
   "metadata": {},
   "outputs": [],
   "source": [
    "Q = agent.q_val \n",
    "policy_function = np.argmax( Q , axis = 1).reshape(8,8)"
   ]
  },
  {
   "cell_type": "code",
   "execution_count": 173,
   "metadata": {},
   "outputs": [
    {
     "data": {
      "image/png": "[encoded data removed]",
      "text/plain": [
       "<matplotlib.figure.Figure at 0x7f6500108b38>"
      ]
     },
     "metadata": {},
     "output_type": "display_data"
    }
   ],
   "source": [
    "def plot_policy( policy_function ):\n",
    "\n",
    "    plt.figure()\n",
    "    plt.imshow( policy_function , interpolation='none' )\n",
    "    plt.colorbar()\n",
    "\n",
    "    for row in range( policy_function.shape[0] ):\n",
    "        for col in range( policy_function.shape[1] ):\n",
    "            if policy_function[row][col] == 0:\n",
    "                continue \n",
    "            if policy_function[row][col] == 1:\n",
    "                dx = 0; dy = .5\n",
    "            if policy_function[row][col] == 2:\n",
    "                dx = 0; dy = -.5\n",
    "            if policy_function[row][col] == 3:\n",
    "                dx = -.5; dy = 0\n",
    "            if policy_function[row][col] == 4:\n",
    "                dx = .5; dy = 0\n",
    "            plt.arrow( col , row , dx , dy , shape='full', fc='w' , ec='w' , lw=3, length_includes_head=True, head_width=.2 )\n",
    "    plt.title( 'Policy' )        \n",
    "    plt.show() \n",
    "plot_policy(policy_function)"
   ]
  },
  {
   "cell_type": "code",
   "execution_count": 174,
   "metadata": {},
   "outputs": [
    {
     "data": {
      "image/png": "[encoded data removed]",
      "text/plain": [
       "<matplotlib.figure.Figure at 0x7f6500105978>"
      ]
     },
     "metadata": {},
     "output_type": "display_data"
    }
   ],
   "source": [
    "env.reset()\n",
    "env.render()"
   ]
  },
  {
   "cell_type": "code",
   "execution_count": null,
   "metadata": {},
   "outputs": [],
   "source": []
  },
  {
   "cell_type": "code",
   "execution_count": null,
   "metadata": {
    "collapsed": true
   },
   "outputs": [],
   "source": []
  }
 ],
 "metadata": {
  "kernelspec": {
   "display_name": "Python 3",
   "language": "python",
   "name": "python3"
  },
  "language_info": {
   "codemirror_mode": {
    "name": "ipython",
    "version": 3
   },
   "file_extension": ".py",
   "mimetype": "text/x-python",
   "name": "python",
   "nbconvert_exporter": "python",
   "pygments_lexer": "ipython3",
   "version": "3.6.3"
  }
 },
 "nbformat": 4,
 "nbformat_minor": 2
}
