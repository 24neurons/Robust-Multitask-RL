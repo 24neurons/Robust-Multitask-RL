{
 "cells": [
  {
   "cell_type": "code",
   "execution_count": 1,
   "metadata": {},
   "outputs": [
    {
     "name": "stdout",
     "output_type": "stream",
     "text": [
      "Using matplotlib backend: Qt5Agg\n",
      "Warning: Cannot change to a different GUI toolkit: notebook. Using qt instead.\n"
     ]
    }
   ],
   "source": [
    "%matplotlib\n",
    "%matplotlib notebook\n",
    "%load_ext autoreload\n",
    "%autoreload 2\n",
    "import sys\n",
    "sys.path.append('../')\n",
    "from envs.gridworld_env import GridworldEnv\n",
    "from utils import play_game\n"
   ]
  },
  {
   "cell_type": "code",
   "execution_count": null,
   "metadata": {},
   "outputs": [],
   "source": [
    "sys.path.append('../dqn')\n",
    "import trainingDQN"
   ]
  },
  {
   "cell_type": "code",
   "execution_count": 3,
   "metadata": {},
   "outputs": [
    {
     "name": "stdout",
     "output_type": "stream",
     "text": [
      "Cur episode: 480 steps done: 20992 exploration factor: 0.05000000064969446\n",
      "Cur episode: 481 steps done: 21005 exploration factor: 0.0500000006413031\n",
      "Cur episode: 482 steps done: 21018 exploration factor: 0.05000000063302011\n",
      "Cur episode: 483 steps done: 21042 exploration factor: 0.05000000061800849\n",
      "Cur episode: 484 steps done: 21057 exploration factor: 0.05000000060880754\n",
      "Cur episode: 485 steps done: 21072 exploration factor: 0.05000000059974358\n",
      "Cur episode: 486 steps done: 21085 exploration factor: 0.05000000059199737\n",
      "Cur episode: 487 steps done: 21106 exploration factor: 0.05000000057969505\n",
      "Cur episode: 488 steps done: 21122 exploration factor: 0.05000000057049374\n",
      "Cur episode: 489 steps done: 21135 exploration factor: 0.05000000056312532\n",
      "Cur episode: 490 steps done: 21152 exploration factor: 0.0500000005536331\n",
      "Cur episode: 491 steps done: 21165 exploration factor: 0.050000000546482445\n",
      "Cur episode: 492 steps done: 21179 exploration factor: 0.050000000538885\n",
      "Cur episode: 493 steps done: 21196 exploration factor: 0.050000000529801386\n",
      "Cur episode: 494 steps done: 21209 exploration factor: 0.05000000052295854\n",
      "Cur episode: 495 steps done: 21224 exploration factor: 0.050000000515172706\n",
      "Cur episode: 496 steps done: 21241 exploration factor: 0.05000000050648879\n",
      "Cur episode: 497 steps done: 21256 exploration factor: 0.050000000498948156\n",
      "Cur episode: 498 steps done: 21272 exploration factor: 0.05000000049102851\n",
      "Cur episode: 499 steps done: 21287 exploration factor: 0.05000000048371805\n",
      "Complete\n"
     ]
    }
   ],
   "source": [
    "agent_dqn, _, _ = trainingDQN.trainDQN(file_name=\"env4\",\n",
    "                    env=GridworldEnv(4),\n",
    "                    batch_size=128,\n",
    "                    gamma=0.999,\n",
    "                    eps_start=0.9,\n",
    "                    eps_end=0.05,\n",
    "                    eps_decay=1000,\n",
    "                    is_plot=False,\n",
    "                    num_episodes=500,\n",
    "                    max_num_steps_per_episode=1000,\n",
    "                    learning_rate=0.0001,\n",
    "                    memory_replay_size=10000,\n",
    "                )"
   ]
  },
  {
   "cell_type": "code",
   "execution_count": 34,
   "metadata": {
    "scrolled": true
   },
   "outputs": [
    {
     "name": "stdout",
     "output_type": "stream",
     "text": [
      "\u001b[33mWARN: gym.spaces.Box autodetected dtype as <class 'numpy.float32'>. Please provide explicit dtype.\u001b[0m\n"
     ]
    }
   ],
   "source": [
    "play_game(GridworldEnv(4), agent_dqn)"
   ]
  },
  {
   "cell_type": "code",
   "execution_count": 56,
   "metadata": {},
   "outputs": [
    {
     "ename": "ValueError",
     "evalue": "list.remove(x): x not in list",
     "output_type": "error",
     "traceback": [
      "\u001b[0;31m---------------------------------------------------------------------------\u001b[0m",
      "\u001b[0;31mValueError\u001b[0m                                Traceback (most recent call last)",
      "\u001b[0;32m<ipython-input-56-f56696a32341>\u001b[0m in \u001b[0;36m<module>\u001b[0;34m()\u001b[0m\n\u001b[0;32m----> 1\u001b[0;31m \u001b[0msys\u001b[0m\u001b[0;34m.\u001b[0m\u001b[0mpath\u001b[0m\u001b[0;34m.\u001b[0m\u001b[0mremove\u001b[0m\u001b[0;34m(\u001b[0m\u001b[0;34m\"../dqn\"\u001b[0m\u001b[0;34m)\u001b[0m\u001b[0;34m\u001b[0m\u001b[0m\n\u001b[0m",
      "\u001b[0;31mValueError\u001b[0m: list.remove(x): x not in list"
     ]
    }
   ],
   "source": [
    "sys.path.remove(\"../dqn\")"
   ]
  },
  {
   "cell_type": "code",
   "execution_count": 57,
   "metadata": {
    "scrolled": true
   },
   "outputs": [
    {
     "data": {
      "text/plain": [
       "['',\n",
       " '/home/nastya/anaconda3/lib/python36.zip',\n",
       " '/home/nastya/anaconda3/lib/python3.6',\n",
       " '/home/nastya/anaconda3/lib/python3.6/lib-dynload',\n",
       " '/home/nastya/anaconda3/lib/python3.6/site-packages',\n",
       " '/home/nastya/gym',\n",
       " '/home/nastya/anaconda3/lib/python3.6/site-packages/torchvision-0.2.0-py3.6.egg',\n",
       " '/home/nastya/anaconda3/lib/python3.6/site-packages/IPython/extensions',\n",
       " '/home/nastya/.ipython',\n",
       " '../',\n",
       " '../',\n",
       " '../',\n",
       " '../',\n",
       " '../',\n",
       " '../',\n",
       " '../',\n",
       " '../',\n",
       " '../',\n",
       " '../sql',\n",
       " '../',\n",
       " '../']"
      ]
     },
     "execution_count": 57,
     "metadata": {},
     "output_type": "execute_result"
    }
   ],
   "source": [
    "sys.path"
   ]
  },
  {
   "cell_type": "code",
   "execution_count": null,
   "metadata": {},
   "outputs": [],
   "source": []
  },
  {
   "cell_type": "code",
   "execution_count": 1,
   "metadata": {
    "scrolled": false
   },
   "outputs": [
    {
     "name": "stdout",
     "output_type": "stream",
     "text": [
      "Using matplotlib backend: Qt5Agg\n",
      "Warning: Cannot change to a different GUI toolkit: notebook. Using qt instead.\n",
      "\u001b[33mWARN: gym.spaces.Box autodetected dtype as <class 'numpy.float32'>. Please provide explicit dtype.\u001b[0m\n"
     ]
    }
   ],
   "source": [
    "%matplotlib\n",
    "%matplotlib notebook\n",
    "%load_ext autoreload\n",
    "%autoreload 2\n",
    "import sys\n",
    "sys.path.append('../')\n",
    "from envs.gridworld_env import GridworldEnv\n",
    "from utils import play_game\n",
    "\n",
    "sys.path.append('../sql')\n",
    "import trainingSQL"
   ]
  },
  {
   "cell_type": "code",
   "execution_count": null,
   "metadata": {
    "scrolled": false
   },
   "outputs": [
    {
     "name": "stdout",
     "output_type": "stream",
     "text": [
      "\u001b[33mWARN: gym.spaces.Box autodetected dtype as <class 'numpy.float32'>. Please provide explicit dtype.\u001b[0m\n",
      "Cur episode: 0 steps done: 0 exploration factor: 1.0\n",
      "Cur episode: 1 steps done: 238 exploration factor: 0.9536679532756783\n",
      "Cur episode: 2 steps done: 997 exploration factor: 0.9095955471341616\n",
      "Cur episode: 3 steps done: 1017 exploration factor: 0.8676725776038049\n",
      "Cur episode: 4 steps done: 164 exploration factor: 0.8277942154240827\n",
      "Cur episode: 5 steps done: 286 exploration factor: 0.7898607439178347\n",
      "Cur episode: 6 steps done: 250 exploration factor: 0.753777309647632\n",
      "Cur episode: 7 steps done: 1551 exploration factor: 0.7194536852327778\n",
      "Cur episode: 8 steps done: 313 exploration factor: 0.6868040437338574\n",
      "Cur episode: 9 steps done: 692 exploration factor: 0.6557467440406847\n",
      "Cur episode: 10 steps done: 121 exploration factor: 0.6262041267270018\n",
      "Cur episode: 11 steps done: 576 exploration factor: 0.5981023198614623\n",
      "Cur episode: 12 steps done: 498 exploration factor: 0.5713710542893251\n",
      "Cur episode: 13 steps done: 1146 exploration factor: 0.5459434879229652\n",
      "Cur episode: 14 steps done: 718 exploration factor: 0.5217560386018391\n",
      "Cur episode: 15 steps done: 239 exploration factor: 0.49874822510396394\n",
      "Cur episode: 16 steps done: 372 exploration factor: 0.4768625159113605\n",
      "Cur episode: 17 steps done: 3282 exploration factor: 0.4560441853512903\n",
      "Cur episode: 18 steps done: 633 exploration factor: 0.4362411767535691\n",
      "Cur episode: 19 steps done: 1059 exploration factor: 0.4174039722817761\n",
      "Cur episode: 20 steps done: 1476 exploration factor: 0.3994854691128702\n"
     ]
    }
   ],
   "source": [
    "agent_sql, sql_rewards, sql_durations = trainingSQL.trainSQL(file_name=\"env4\",\n",
    "                                                            env=GridworldEnv(4),\n",
    "                                                            batch_size=128,\n",
    "                                                            gamma=0.99,\n",
    "                                                            beta=5,\n",
    "                                                            eps_start=1,\n",
    "                                                            eps_end=0.05,\n",
    "                                                            eps_decay=20,\n",
    "                                                            is_plot=False,\n",
    "                                                            num_episodes=500,\n",
    "                                                            max_num_steps_per_episode=20000,\n",
    "                                                            learning_rate=0.0001,\n",
    "                                                            memory_replay_size=10000,)"
   ]
  },
  {
   "cell_type": "code",
   "execution_count": null,
   "metadata": {},
   "outputs": [],
   "source": []
  },
  {
   "cell_type": "code",
   "execution_count": null,
   "metadata": {},
   "outputs": [],
   "source": []
  }
 ],
 "metadata": {
  "kernelspec": {
   "display_name": "Python 3",
   "language": "python",
   "name": "myenv"
  },
  "language_info": {
   "codemirror_mode": {
    "name": "ipython",
    "version": 3
   },
   "file_extension": ".py",
   "mimetype": "text/x-python",
   "name": "python",
   "nbconvert_exporter": "python",
   "pygments_lexer": "ipython3",
   "version": "3.6.4"
  }
 },
 "nbformat": 4,
 "nbformat_minor": 2
}
