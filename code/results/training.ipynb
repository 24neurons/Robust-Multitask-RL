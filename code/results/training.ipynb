{
 "cells": [
  {
   "cell_type": "code",
   "execution_count": 1,
   "metadata": {},
   "outputs": [
    {
     "name": "stdout",
     "output_type": "stream",
     "text": [
      "Using matplotlib backend: Qt5Agg\n",
      "Warning: Cannot change to a different GUI toolkit: notebook. Using qt instead.\n"
     ]
    }
   ],
   "source": [
    "%matplotlib\n",
    "%matplotlib notebook\n",
    "%load_ext autoreload\n",
    "%autoreload 2\n",
    "import sys\n",
    "sys.path.append('../')\n",
    "from envs.gridworld_env import GridworldEnv\n",
    "from utils import play_game\n"
   ]
  },
  {
   "cell_type": "code",
   "execution_count": null,
   "metadata": {},
   "outputs": [],
   "source": [
    "sys.path.append('../dqn')\n",
    "import trainingDQN"
   ]
  },
  {
   "cell_type": "code",
   "execution_count": 3,
   "metadata": {},
   "outputs": [
    {
     "name": "stdout",
     "output_type": "stream",
     "text": [
      "Cur episode: 480 steps done: 20992 exploration factor: 0.05000000064969446\n",
      "Cur episode: 481 steps done: 21005 exploration factor: 0.0500000006413031\n",
      "Cur episode: 482 steps done: 21018 exploration factor: 0.05000000063302011\n",
      "Cur episode: 483 steps done: 21042 exploration factor: 0.05000000061800849\n",
      "Cur episode: 484 steps done: 21057 exploration factor: 0.05000000060880754\n",
      "Cur episode: 485 steps done: 21072 exploration factor: 0.05000000059974358\n",
      "Cur episode: 486 steps done: 21085 exploration factor: 0.05000000059199737\n",
      "Cur episode: 487 steps done: 21106 exploration factor: 0.05000000057969505\n",
      "Cur episode: 488 steps done: 21122 exploration factor: 0.05000000057049374\n",
      "Cur episode: 489 steps done: 21135 exploration factor: 0.05000000056312532\n",
      "Cur episode: 490 steps done: 21152 exploration factor: 0.0500000005536331\n",
      "Cur episode: 491 steps done: 21165 exploration factor: 0.050000000546482445\n",
      "Cur episode: 492 steps done: 21179 exploration factor: 0.050000000538885\n",
      "Cur episode: 493 steps done: 21196 exploration factor: 0.050000000529801386\n",
      "Cur episode: 494 steps done: 21209 exploration factor: 0.05000000052295854\n",
      "Cur episode: 495 steps done: 21224 exploration factor: 0.050000000515172706\n",
      "Cur episode: 496 steps done: 21241 exploration factor: 0.05000000050648879\n",
      "Cur episode: 497 steps done: 21256 exploration factor: 0.050000000498948156\n",
      "Cur episode: 498 steps done: 21272 exploration factor: 0.05000000049102851\n",
      "Cur episode: 499 steps done: 21287 exploration factor: 0.05000000048371805\n",
      "Complete\n"
     ]
    }
   ],
   "source": [
    "agent_dqn, _, _ = trainingDQN.trainDQN(file_name=\"env4\",\n",
    "                    env=GridworldEnv(4),\n",
    "                    batch_size=128,\n",
    "                    gamma=0.999,\n",
    "                    eps_start=0.9,\n",
    "                    eps_end=0.05,\n",
    "                    eps_decay=1000,\n",
    "                    is_plot=False,\n",
    "                    num_episodes=500,\n",
    "                    max_num_steps_per_episode=1000,\n",
    "                    learning_rate=0.0001,\n",
    "                    memory_replay_size=10000,\n",
    "                )"
   ]
  },
  {
   "cell_type": "code",
   "execution_count": 34,
   "metadata": {
    "scrolled": true
   },
   "outputs": [
    {
     "name": "stdout",
     "output_type": "stream",
     "text": [
      "\u001b[33mWARN: gym.spaces.Box autodetected dtype as <class 'numpy.float32'>. Please provide explicit dtype.\u001b[0m\n"
     ]
    }
   ],
   "source": [
    "play_game(GridworldEnv(4), agent_dqn)"
   ]
  },
  {
   "cell_type": "code",
   "execution_count": 56,
   "metadata": {},
   "outputs": [
    {
     "ename": "ValueError",
     "evalue": "list.remove(x): x not in list",
     "output_type": "error",
     "traceback": [
      "\u001b[0;31m---------------------------------------------------------------------------\u001b[0m",
      "\u001b[0;31mValueError\u001b[0m                                Traceback (most recent call last)",
      "\u001b[0;32m<ipython-input-56-f56696a32341>\u001b[0m in \u001b[0;36m<module>\u001b[0;34m()\u001b[0m\n\u001b[0;32m----> 1\u001b[0;31m \u001b[0msys\u001b[0m\u001b[0;34m.\u001b[0m\u001b[0mpath\u001b[0m\u001b[0;34m.\u001b[0m\u001b[0mremove\u001b[0m\u001b[0;34m(\u001b[0m\u001b[0;34m\"../dqn\"\u001b[0m\u001b[0;34m)\u001b[0m\u001b[0;34m\u001b[0m\u001b[0m\n\u001b[0m",
      "\u001b[0;31mValueError\u001b[0m: list.remove(x): x not in list"
     ]
    }
   ],
   "source": [
    "sys.path.remove(\"../dqn\")"
   ]
  },
  {
   "cell_type": "code",
   "execution_count": 57,
   "metadata": {
    "scrolled": true
   },
   "outputs": [
    {
     "data": {
      "text/plain": [
       "['',\n",
       " '/home/nastya/anaconda3/lib/python36.zip',\n",
       " '/home/nastya/anaconda3/lib/python3.6',\n",
       " '/home/nastya/anaconda3/lib/python3.6/lib-dynload',\n",
       " '/home/nastya/anaconda3/lib/python3.6/site-packages',\n",
       " '/home/nastya/gym',\n",
       " '/home/nastya/anaconda3/lib/python3.6/site-packages/torchvision-0.2.0-py3.6.egg',\n",
       " '/home/nastya/anaconda3/lib/python3.6/site-packages/IPython/extensions',\n",
       " '/home/nastya/.ipython',\n",
       " '../',\n",
       " '../',\n",
       " '../',\n",
       " '../',\n",
       " '../',\n",
       " '../',\n",
       " '../',\n",
       " '../',\n",
       " '../',\n",
       " '../sql',\n",
       " '../',\n",
       " '../']"
      ]
     },
     "execution_count": 57,
     "metadata": {},
     "output_type": "execute_result"
    }
   ],
   "source": [
    "sys.path"
   ]
  },
  {
   "cell_type": "code",
   "execution_count": null,
   "metadata": {},
   "outputs": [],
   "source": []
  },
  {
   "cell_type": "code",
   "execution_count": 1,
   "metadata": {
    "scrolled": false
   },
   "outputs": [
    {
     "name": "stdout",
     "output_type": "stream",
     "text": [
      "Using matplotlib backend: Qt5Agg\n",
      "Warning: Cannot change to a different GUI toolkit: notebook. Using qt instead.\n",
      "\u001b[33mWARN: gym.spaces.Box autodetected dtype as <class 'numpy.float32'>. Please provide explicit dtype.\u001b[0m\n"
     ]
    }
   ],
   "source": [
    "%matplotlib\n",
    "%matplotlib notebook\n",
    "%load_ext autoreload\n",
    "%autoreload 2\n",
    "import sys\n",
    "sys.path.append('../')\n",
    "from envs.gridworld_env import GridworldEnv\n",
    "from utils import play_game\n",
    "\n",
    "sys.path.append('../sql')\n",
    "import trainingSQL"
   ]
  },
  {
   "cell_type": "code",
   "execution_count": 4,
   "metadata": {
    "scrolled": false
   },
   "outputs": [
    {
     "name": "stdout",
     "output_type": "stream",
     "text": [
      "\u001b[33mWARN: gym.spaces.Box autodetected dtype as <class 'numpy.float32'>. Please provide explicit dtype.\u001b[0m\n",
      "Cur episode: 0 steps done: 0 exploration factor: 0.9\n",
      "Cur episode: 1 steps done: 1000 exploration factor: 0.7459211401162845\n",
      "Cur episode: 2 steps done: 2000 exploration factor: 0.6197720391302934\n",
      "Cur episode: 3 steps done: 3000 exploration factor: 0.5164898906799225\n",
      "Cur episode: 4 steps done: 4000 exploration factor: 0.4319296194996383\n",
      "Cur episode: 5 steps done: 5000 exploration factor: 0.36269752499572594\n",
      "Cur episode: 6 steps done: 6000 exploration factor: 0.3060150801253718\n",
      "Cur episode: 7 steps done: 7000 exploration factor: 0.2596074193503655\n",
      "Cur episode: 8 steps done: 8000 exploration factor: 0.22161204029545706\n"
     ]
    },
    {
     "ename": "KeyboardInterrupt",
     "evalue": "",
     "output_type": "error",
     "traceback": [
      "\u001b[0;31m---------------------------------------------------------------------------\u001b[0m",
      "\u001b[0;31mKeyboardInterrupt\u001b[0m                         Traceback (most recent call last)",
      "\u001b[0;32m<ipython-input-4-439e07ebbcce>\u001b[0m in \u001b[0;36m<module>\u001b[0;34m()\u001b[0m\n\u001b[1;32m     11\u001b[0m                                                             \u001b[0mmax_num_steps_per_episode\u001b[0m\u001b[0;34m=\u001b[0m\u001b[0;36m1000\u001b[0m\u001b[0;34m,\u001b[0m\u001b[0;34m\u001b[0m\u001b[0m\n\u001b[1;32m     12\u001b[0m                                                             \u001b[0mlearning_rate\u001b[0m\u001b[0;34m=\u001b[0m\u001b[0;36m0.005\u001b[0m\u001b[0;34m,\u001b[0m\u001b[0;34m\u001b[0m\u001b[0m\n\u001b[0;32m---> 13\u001b[0;31m                                                             memory_replay_size=10000,)\n\u001b[0m",
      "\u001b[0;32m~/skoltech/Robust-Multitask-RL/code/sql/trainingSQL.py\u001b[0m in \u001b[0;36mtrainSQL\u001b[0;34m(file_name, env, batch_size, gamma, beta, eps_start, eps_end, eps_decay, is_plot, num_episodes, max_num_steps_per_episode, learning_rate, memory_replay_size)\u001b[0m\n\u001b[1;32m     81\u001b[0m \u001b[0;34m\u001b[0m\u001b[0m\n\u001b[1;32m     82\u001b[0m             \u001b[0;31m# Perform one step of the optimization (on the target network)\u001b[0m\u001b[0;34m\u001b[0m\u001b[0;34m\u001b[0m\u001b[0m\n\u001b[0;32m---> 83\u001b[0;31m             \u001b[0moptimize_model\u001b[0m\u001b[0;34m(\u001b[0m\u001b[0mmodel\u001b[0m\u001b[0;34m,\u001b[0m \u001b[0moptimizer\u001b[0m\u001b[0;34m,\u001b[0m \u001b[0mmemory\u001b[0m\u001b[0;34m,\u001b[0m \u001b[0mbatch_size\u001b[0m\u001b[0;34m,\u001b[0m \u001b[0mgamma\u001b[0m\u001b[0;34m,\u001b[0m \u001b[0mbeta\u001b[0m\u001b[0;34m)\u001b[0m\u001b[0;34m\u001b[0m\u001b[0m\n\u001b[0m\u001b[1;32m     84\u001b[0m             \u001b[0;32mif\u001b[0m \u001b[0mdone\u001b[0m \u001b[0;32mor\u001b[0m \u001b[0mt\u001b[0m \u001b[0;34m+\u001b[0m \u001b[0;36m1\u001b[0m \u001b[0;34m>=\u001b[0m \u001b[0mmax_num_steps_per_episode\u001b[0m\u001b[0;34m:\u001b[0m\u001b[0;34m\u001b[0m\u001b[0m\n\u001b[1;32m     85\u001b[0m                 \u001b[0mepisode_durations\u001b[0m\u001b[0;34m.\u001b[0m\u001b[0mappend\u001b[0m\u001b[0;34m(\u001b[0m\u001b[0mt\u001b[0m \u001b[0;34m+\u001b[0m \u001b[0;36m1\u001b[0m\u001b[0;34m)\u001b[0m\u001b[0;34m\u001b[0m\u001b[0m\n",
      "\u001b[0;32m~/skoltech/Robust-Multitask-RL/code/sql/network.py\u001b[0m in \u001b[0;36moptimize_model\u001b[0;34m(model, optimizer, memory, BATCH_SIZE, GAMMA, BETA)\u001b[0m\n\u001b[1;32m     93\u001b[0m     \u001b[0;31m# Optimize the model\u001b[0m\u001b[0;34m\u001b[0m\u001b[0;34m\u001b[0m\u001b[0m\n\u001b[1;32m     94\u001b[0m     \u001b[0moptimizer\u001b[0m\u001b[0;34m.\u001b[0m\u001b[0mzero_grad\u001b[0m\u001b[0;34m(\u001b[0m\u001b[0;34m)\u001b[0m\u001b[0;34m\u001b[0m\u001b[0m\n\u001b[0;32m---> 95\u001b[0;31m     \u001b[0mloss\u001b[0m\u001b[0;34m.\u001b[0m\u001b[0mbackward\u001b[0m\u001b[0;34m(\u001b[0m\u001b[0;34m)\u001b[0m\u001b[0;34m\u001b[0m\u001b[0m\n\u001b[0m\u001b[1;32m     96\u001b[0m     \u001b[0;31m# for param in model.parameters():\u001b[0m\u001b[0;34m\u001b[0m\u001b[0;34m\u001b[0m\u001b[0m\n\u001b[1;32m     97\u001b[0m     \u001b[0;31m#     param.grad.data.clamp_(-10, 10)\u001b[0m\u001b[0;34m\u001b[0m\u001b[0;34m\u001b[0m\u001b[0m\n",
      "\u001b[0;32m~/anaconda3/lib/python3.6/site-packages/torch/autograd/variable.py\u001b[0m in \u001b[0;36mbackward\u001b[0;34m(self, gradient, retain_graph, create_graph, retain_variables)\u001b[0m\n\u001b[1;32m    165\u001b[0m                 \u001b[0mVariable\u001b[0m\u001b[0;34m.\u001b[0m\u001b[0;34m\u001b[0m\u001b[0m\n\u001b[1;32m    166\u001b[0m         \"\"\"\n\u001b[0;32m--> 167\u001b[0;31m         \u001b[0mtorch\u001b[0m\u001b[0;34m.\u001b[0m\u001b[0mautograd\u001b[0m\u001b[0;34m.\u001b[0m\u001b[0mbackward\u001b[0m\u001b[0;34m(\u001b[0m\u001b[0mself\u001b[0m\u001b[0;34m,\u001b[0m \u001b[0mgradient\u001b[0m\u001b[0;34m,\u001b[0m \u001b[0mretain_graph\u001b[0m\u001b[0;34m,\u001b[0m \u001b[0mcreate_graph\u001b[0m\u001b[0;34m,\u001b[0m \u001b[0mretain_variables\u001b[0m\u001b[0;34m)\u001b[0m\u001b[0;34m\u001b[0m\u001b[0m\n\u001b[0m\u001b[1;32m    168\u001b[0m \u001b[0;34m\u001b[0m\u001b[0m\n\u001b[1;32m    169\u001b[0m     \u001b[0;32mdef\u001b[0m \u001b[0mregister_hook\u001b[0m\u001b[0;34m(\u001b[0m\u001b[0mself\u001b[0m\u001b[0;34m,\u001b[0m \u001b[0mhook\u001b[0m\u001b[0;34m)\u001b[0m\u001b[0;34m:\u001b[0m\u001b[0;34m\u001b[0m\u001b[0m\n",
      "\u001b[0;32m~/anaconda3/lib/python3.6/site-packages/torch/autograd/__init__.py\u001b[0m in \u001b[0;36mbackward\u001b[0;34m(variables, grad_variables, retain_graph, create_graph, retain_variables)\u001b[0m\n\u001b[1;32m     97\u001b[0m \u001b[0;34m\u001b[0m\u001b[0m\n\u001b[1;32m     98\u001b[0m     Variable._execution_engine.run_backward(\n\u001b[0;32m---> 99\u001b[0;31m         variables, grad_variables, retain_graph)\n\u001b[0m\u001b[1;32m    100\u001b[0m \u001b[0;34m\u001b[0m\u001b[0m\n\u001b[1;32m    101\u001b[0m \u001b[0;34m\u001b[0m\u001b[0m\n",
      "\u001b[0;31mKeyboardInterrupt\u001b[0m: "
     ]
    }
   ],
   "source": [
    "agent_sql, sql_rewards, sql_durations = trainingSQL.trainSQL(file_name=\"env4\",\n",
    "                                                            env=GridworldEnv(4),\n",
    "                                                            batch_size=128,\n",
    "                                                            gamma=0.8,\n",
    "                                                            beta=5,\n",
    "                                                            eps_start=0.9,\n",
    "                                                            eps_end=0.05,\n",
    "                                                            eps_decay=5000,\n",
    "                                                            is_plot=False,\n",
    "                                                            num_episodes=500,\n",
    "                                                            max_num_steps_per_episode=1000,\n",
    "                                                            learning_rate=0.005,\n",
    "                                                            memory_replay_size=10000,)"
   ]
  },
  {
   "cell_type": "code",
   "execution_count": null,
   "metadata": {},
   "outputs": [],
   "source": []
  },
  {
   "cell_type": "code",
   "execution_count": null,
   "metadata": {},
   "outputs": [],
   "source": []
  }
 ],
 "metadata": {
  "kernelspec": {
   "display_name": "Python 3",
   "language": "python",
   "name": "myenv"
  },
  "language_info": {
   "codemirror_mode": {
    "name": "ipython",
    "version": 3
   },
   "file_extension": ".py",
   "mimetype": "text/x-python",
   "name": "python",
   "nbconvert_exporter": "python",
   "pygments_lexer": "ipython3",
   "version": "3.6.4"
  }
 },
 "nbformat": 4,
 "nbformat_minor": 2
}
